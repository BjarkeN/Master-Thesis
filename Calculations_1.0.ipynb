{
 "cells": [
  {
   "cell_type": "code",
   "execution_count": 54,
   "metadata": {},
   "outputs": [],
   "source": [
    "import numpy as np\n",
    "import sympy as sy\n",
    "\n"
   ]
  },
  {
   "cell_type": "code",
   "execution_count": 55,
   "metadata": {},
   "outputs": [
    {
     "data": {
      "text/latex": [
       "$\\displaystyle 0 = - g{\\left(z \\right)} - \\frac{\\frac{d}{d z} p{\\left(z \\right)}}{\\rho{\\left(z \\right)}}$"
      ],
      "text/plain": [
       "Eq(0, -g(z) - Derivative(p(z), z)/rho(z))"
      ]
     },
     "execution_count": 55,
     "metadata": {},
     "output_type": "execute_result"
    }
   ],
   "source": [
    "import sympy as sy\n",
    "\n",
    "rho = sy.Function(\"rho\")\n",
    "p = sy.Function(\"p\")\n",
    "x, y, z, f, v, u = sy.symbols(\"x,y,z,f,v,u\")\n",
    "g = sy.Function(\"g\") \n",
    "xi = sy.Function(\"xi\")\n",
    "\n",
    "\n",
    "eq=sy.Eq(0, -1/rho(z) * sy.diff(p(z), z) - g(z))\n",
    "eq\n"
   ]
  },
  {
   "cell_type": "code",
   "execution_count": 56,
   "metadata": {},
   "outputs": [
    {
     "data": {
      "text/latex": [
       "$\\displaystyle p{\\left(z \\right)} = C_{1} - \\int g{\\left(z \\right)} \\rho{\\left(z \\right)}\\, dz$"
      ],
      "text/plain": [
       "Eq(p(z), C1 - Integral(g(z)*rho(z), z))"
      ]
     },
     "execution_count": 56,
     "metadata": {},
     "output_type": "execute_result"
    }
   ],
   "source": [
    "sy.dsolve(eq)"
   ]
  },
  {
   "cell_type": "code",
   "execution_count": 57,
   "metadata": {},
   "outputs": [
    {
     "name": "stdout",
     "output_type": "stream",
     "text": [
      "Barotrophy part: 0.686, fraction 0.998\n",
      "Baroclinic part: 0.001, fraction 0.002\n"
     ]
    }
   ],
   "source": [
    "f = 2*7.2921159*1e-5 * np.sin(np.deg2rad(30)) # rad/s\n",
    "g = 10 # m/s2\n",
    "Dx = 200*1e3 # m\n",
    "xi = 1/(200*1e3) * Dx # m\n",
    "Dt = 14*60*60*24 # s\n",
    "rho = 1026 # kg/m3\n",
    "Dz = 1000 # m\n",
    "Drho = 2/Dx # kg/m3 / m\n",
    "\n",
    "btrop = g/f * xi / Dx\n",
    "bclin = g/(f*rho) * Drho\n",
    "\n",
    "print(\"Barotrophy part: {:.3f}, fraction {:.3f}\".format(btrop, btrop/(btrop+bclin)))\n",
    "print(\"Baroclinic part: {:.3f}, fraction {:.3f}\".format(bclin, bclin/(btrop+bclin)))"
   ]
  },
  {
   "cell_type": "code",
   "execution_count": 58,
   "metadata": {},
   "outputs": [
    {
     "name": "stdout",
     "output_type": "stream",
     "text": [
      "Barotrophy part: 0.686, fraction 0.928\n",
      "Baroclinic part: 0.053, fraction 0.072\n"
     ]
    }
   ],
   "source": [
    "f = 2*7.2921159*1e-5 * np.sin(np.deg2rad(30)) # rad/s\n",
    "g = 10 # m/s2\n",
    "Dx = 1*1e3 # m\n",
    "xi = 1/(200*1e3) * Dx # m\n",
    "Dt = 14*60*60*24 # s\n",
    "rho = 1026 # kg/m3\n",
    "Dz = 1000 # m\n",
    "Drho = 4/Dx # kg/m3 / m\n",
    "\n",
    "btrop = g/f * xi / Dx\n",
    "bclin = 1/(f*rho) * (Drho * Dz)/Dx\n",
    "\n",
    "print(\"Barotrophy part: {:.3f}, fraction {:.3f}\".format(btrop, btrop/(btrop+bclin)))\n",
    "print(\"Baroclinic part: {:.3f}, fraction {:.3f}\".format(bclin, bclin/(btrop+bclin)))"
   ]
  },
  {
   "cell_type": "code",
   "execution_count": 59,
   "metadata": {},
   "outputs": [
    {
     "name": "stdout",
     "output_type": "stream",
     "text": [
      "Barotrophy part: 0.686, fraction 0.114\n",
      "Baroclinic part: 5.346, fraction 0.886\n"
     ]
    }
   ],
   "source": [
    "f = 2*7.2921159*1e-5 * np.sin(np.deg2rad(30)) # rad/s\n",
    "g = 10 # m/s2\n",
    "Dx = 0.1*1e3 # m\n",
    "xi = 1/(200*1e3) * Dx # m\n",
    "Dt = 14*60*60*24 # s\n",
    "rho = 1026 # kg/m3\n",
    "Dz = 1000 # m\n",
    "Drho = 4/Dx # kg/m3 / m\n",
    "\n",
    "btrop = g/f * xi / Dx\n",
    "bclin = 1/(f*rho) * (Drho * Dz)/Dx\n",
    "\n",
    "print(\"Barotrophy part: {:.3f}, fraction {:.3f}\".format(btrop, btrop/(btrop+bclin)))\n",
    "print(\"Baroclinic part: {:.3f}, fraction {:.3f}\".format(bclin, bclin/(btrop+bclin)))"
   ]
  }
 ],
 "metadata": {
  "kernelspec": {
   "display_name": "envMasterConda",
   "language": "python",
   "name": "python3"
  },
  "language_info": {
   "codemirror_mode": {
    "name": "ipython",
    "version": 3
   },
   "file_extension": ".py",
   "mimetype": "text/x-python",
   "name": "python",
   "nbconvert_exporter": "python",
   "pygments_lexer": "ipython3",
   "version": "3.11.4"
  },
  "orig_nbformat": 4
 },
 "nbformat": 4,
 "nbformat_minor": 2
}
