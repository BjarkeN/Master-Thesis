{
 "cells": [
  {
   "cell_type": "code",
   "execution_count": null,
   "metadata": {},
   "outputs": [],
   "source": [
    "from swot_datahandler import *\n",
    "from swot_datafunctions import *\n",
    "\n",
    "# Load functions\n",
    "import matplotlib.pyplot as plt\n",
    "import numpy as np\n",
    "import cartopy\n",
    "import cartopy.crs as ccrs\n"
   ]
  },
  {
   "cell_type": "code",
   "execution_count": null,
   "metadata": {},
   "outputs": [],
   "source": [
    "# Settings\n",
    "#cycles = np.arange(495, 505+1).tolist()\n",
    "cycles = np.arange(474, 578+1).tolist()\n",
    "print(cycles)\n",
    "#cycles = np.arange(500, 577+1).tolist()"
   ]
  }
 ],
 "metadata": {
  "language_info": {
   "name": "python"
  }
 },
 "nbformat": 4,
 "nbformat_minor": 2
}
